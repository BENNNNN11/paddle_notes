{
 "cells": [
  {
   "cell_type": "markdown",
   "id": "0b89b112",
   "metadata": {},
   "source": [
    "## VisualDL\n",
    "VisualDL是飞桨可视化分析工具，以丰富的图表呈现训练参数变化趋势、模型结构、数据样本、直方图、PR曲线及高维数据分布。可帮助用户更清晰直观地理解深度学习模型训练过程及模型结构，进而实现高效的模型优化。  \n",
    "\n",
    "**安装方式**\n",
    "- pip安装\n",
    "    - `pip install --upgrade --pre visualdl`\n",
    "- 代码安装\n",
    "    - `git clone https://github.com/PaddlePaddle/VisualDL.git`\n",
    "    - `cd VisualDL`\n",
    "\n",
    "    - `python setup.py bdist_wheel`\n",
    "    - `pip install --upgrade dist/visualdl-*.whl`\n"
   ]
  },
  {
   "cell_type": "code",
   "execution_count": null,
   "id": "5047a1f2",
   "metadata": {},
   "outputs": [],
   "source": []
  },
  {
   "cell_type": "code",
   "execution_count": null,
   "id": "bf73a771",
   "metadata": {},
   "outputs": [],
   "source": []
  },
  {
   "cell_type": "code",
   "execution_count": null,
   "id": "4334c00f",
   "metadata": {},
   "outputs": [],
   "source": []
  }
 ],
 "metadata": {
  "kernelspec": {
   "display_name": "Python 3 (ipykernel)",
   "language": "python",
   "name": "python3"
  },
  "language_info": {
   "codemirror_mode": {
    "name": "ipython",
    "version": 3
   },
   "file_extension": ".py",
   "mimetype": "text/x-python",
   "name": "python",
   "nbconvert_exporter": "python",
   "pygments_lexer": "ipython3",
   "version": "3.9.7"
  }
 },
 "nbformat": 4,
 "nbformat_minor": 5
}
