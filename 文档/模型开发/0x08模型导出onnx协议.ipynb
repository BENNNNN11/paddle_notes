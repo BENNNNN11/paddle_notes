{
 "cells": [
  {
   "cell_type": "markdown",
   "id": "d48ffa77",
   "metadata": {},
   "source": [
    "## 模型导出onnx协议\n",
    "ONNX (Open Nerual Network Exchange)是针对机器学习所设计的开源文件格式，用于存储训练好的模型。它使得不同的人工智能框架可以采用相同格式存储模型并交互。通过ONNX格式，Paddle模型可以使用OpenVINO、ONNX Runtime等框架进行推理。"
   ]
  },
  {
   "cell_type": "markdown",
   "id": "59dd243c",
   "metadata": {},
   "source": [
    "### 动态图导出为onnx协议\n",
    "- Paddle动态图模型转换为ONNX协议，首先会将Paddle的动态图 `paddle.nn.Layer` 转换为静态图。\n",
    "- 然后依照ONNX的算子协议，将Paddle的算子一一映射为ONNX的算子。\n",
    "- 动态图转换ONNX调用 `paddle.onnx.export()` 接口即可实现，该接口通过 `input_spec` 参数为模型指定输入的形状和数据类型，支持 `Tensor` 或 `InputSpec` ，其中 `InputSpec` 支持动态的shape。"
   ]
  },
  {
   "cell_type": "code",
   "execution_count": 1,
   "id": "41bed4d5",
   "metadata": {},
   "outputs": [
    {
     "name": "stdout",
     "output_type": "stream",
     "text": [
      "2022-03-07 16:44:29 [INFO]\tONNX model saved in onnx.save/linear_net.onnx\n"
     ]
    },
    {
     "name": "stderr",
     "output_type": "stream",
     "text": [
      "D:\\anaconda\\envs\\lc-or\\lib\\site-packages\\onnx\\mapping.py:27: DeprecationWarning: `np.object` is a deprecated alias for the builtin `object`. To silence this warning, use `object` by itself. Doing this will not modify any behavior and is safe. \n",
      "Deprecated in NumPy 1.20; for more details and guidance: https://numpy.org/devdocs/release/1.20.0-notes.html#deprecations\n",
      "  int(TensorProto.STRING): np.dtype(np.object)\n",
      "D:\\anaconda\\envs\\lc-or\\lib\\site-packages\\paddle2onnx\\constant\\dtypes.py:45: DeprecationWarning: `np.bool` is a deprecated alias for the builtin `bool`. To silence this warning, use `bool` by itself. Doing this will not modify any behavior and is safe. If you specifically wanted the numpy scalar type, use `np.bool_` here.\n",
      "Deprecated in NumPy 1.20; for more details and guidance: https://numpy.org/devdocs/release/1.20.0-notes.html#deprecations\n",
      "  np.bool: core.VarDesc.VarType.BOOL,\n",
      "D:\\anaconda\\envs\\lc-or\\lib\\site-packages\\paddle2onnx\\constant\\dtypes.py:46: DeprecationWarning: `np.float` is a deprecated alias for the builtin `float`. To silence this warning, use `float` by itself. Doing this will not modify any behavior and is safe. If you specifically wanted the numpy scalar type, use `np.float64` here.\n",
      "Deprecated in NumPy 1.20; for more details and guidance: https://numpy.org/devdocs/release/1.20.0-notes.html#deprecations\n",
      "  core.VarDesc.VarType.FP32: np.float,\n",
      "D:\\anaconda\\envs\\lc-or\\lib\\site-packages\\paddle2onnx\\constant\\dtypes.py:51: DeprecationWarning: `np.bool` is a deprecated alias for the builtin `bool`. To silence this warning, use `bool` by itself. Doing this will not modify any behavior and is safe. If you specifically wanted the numpy scalar type, use `np.bool_` here.\n",
      "Deprecated in NumPy 1.20; for more details and guidance: https://numpy.org/devdocs/release/1.20.0-notes.html#deprecations\n",
      "  core.VarDesc.VarType.BOOL: np.bool\n",
      "D:\\anaconda\\envs\\lc-or\\lib\\site-packages\\paddle\\fluid\\layers\\utils.py:77: DeprecationWarning: Using or importing the ABCs from 'collections' instead of from 'collections.abc' is deprecated since Python 3.3, and in 3.10 it will stop working\n",
      "  return (isinstance(seq, collections.Sequence) and\n",
      "D:\\anaconda\\envs\\lc-or\\lib\\site-packages\\onnx\\helper.py:343: DeprecationWarning: Using or importing the ABCs from 'collections' instead of from 'collections.abc' is deprecated since Python 3.3, and in 3.10 it will stop working\n",
      "  is_iterable = isinstance(value, collections.Iterable)\n"
     ]
    }
   ],
   "source": [
    "import paddle\n",
    "from paddle import nn\n",
    "from paddle.static import InputSpec\n",
    "\n",
    "\n",
    "class LinearNet(nn.Layer):\n",
    "    def __init__(self):\n",
    "        super(LinearNet, self).__init__()\n",
    "        self._linear = nn.Linear(784, 10)\n",
    "\n",
    "    def forward(self, x):\n",
    "        return self._linear(x)\n",
    "    \n",
    "# export to ONNX\n",
    "layer = LinearNet()\n",
    "save_path = 'onnx.save/linear_net'\n",
    "x_spec = InputSpec([None, 784], 'float32', 'x')\n",
    "paddle.onnx.export(layer, save_path, input_spec=[x_spec])"
   ]
  },
  {
   "cell_type": "markdown",
   "id": "df29f69e",
   "metadata": {},
   "source": [
    "### 静态图导出为onnx协议\n",
    "- Paddle 2.0以后将主推动态图组网方式，如果您的模型来自于旧版本的Paddle，使用静态图组网，请参考paddle2onnx的 使用文档和示例"
   ]
  },
  {
   "cell_type": "markdown",
   "id": "393e7378",
   "metadata": {},
   "source": []
  },
  {
   "cell_type": "code",
   "execution_count": null,
   "id": "f8503f3d",
   "metadata": {},
   "outputs": [],
   "source": []
  },
  {
   "cell_type": "code",
   "execution_count": null,
   "id": "8a6135ab",
   "metadata": {},
   "outputs": [],
   "source": []
  },
  {
   "cell_type": "code",
   "execution_count": null,
   "id": "fa8f5c29",
   "metadata": {},
   "outputs": [],
   "source": []
  }
 ],
 "metadata": {
  "kernelspec": {
   "display_name": "Python 3 (ipykernel)",
   "language": "python",
   "name": "python3"
  },
  "language_info": {
   "codemirror_mode": {
    "name": "ipython",
    "version": 3
   },
   "file_extension": ".py",
   "mimetype": "text/x-python",
   "name": "python",
   "nbconvert_exporter": "python",
   "pygments_lexer": "ipython3",
   "version": "3.9.7"
  }
 },
 "nbformat": 4,
 "nbformat_minor": 5
}
