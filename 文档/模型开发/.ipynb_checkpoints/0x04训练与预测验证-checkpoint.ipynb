{
 "cells": [
  {
   "cell_type": "markdown",
   "id": "35451553",
   "metadata": {},
   "source": [
    "# 训练与预测验证\n",
    "在完成数据预处理，数据加载与模型的组建后，就可以进行模型的训练与预测了。两种方法:\n",
    "- 一种是用`paddle.Model`对模型进行封装，然后通过高层API完成模型训练和预测\n",
    "- 另一种是基于常规API（高层API实现的模型训练与预测如Model.fit()、Model.evaluate()、Model.predict()都可以通过基础API实现）"
   ]
  },
  {
   "cell_type": "markdown",
   "id": "77817a59",
   "metadata": {},
   "source": [
    "**通过高层API**"
   ]
  },
  {
   "cell_type": "code",
   "execution_count": 3,
   "id": "b615f5fa",
   "metadata": {},
   "outputs": [
    {
     "name": "stdout",
     "output_type": "stream",
     "text": [
      "The loss value printed in the log is the current step, and the metric is the average value of previous steps.\n",
      "Epoch 1/5\n",
      "step 938/938 [==============================] - loss: 0.1550 - acc: 0.9296 - 28ms/step          \n",
      "Epoch 2/5\n",
      "step 938/938 [==============================] - loss: 0.0363 - acc: 0.9696 - 32ms/step          \n",
      "Epoch 3/5\n",
      "step 938/938 [==============================] - loss: 0.0222 - acc: 0.9785 - 33ms/step          \n",
      "Epoch 4/5\n",
      "step 938/938 [==============================] - loss: 0.0189 - acc: 0.9820 - 33ms/step          \n",
      "Epoch 5/5\n",
      "step 938/938 [==============================] - loss: 0.0927 - acc: 0.9862 - 33ms/step          \n",
      "Eval begin...\n",
      "step 10000/10000 [==============================] - loss: 2.3842e-07 - acc: 0.9798 - 4ms/step          \n",
      "Eval samples: 10000\n",
      "Predict begin...\n",
      "step 10000/10000 [==============================] - 3ms/step          \n",
      "Predict samples: 10000\n"
     ]
    }
   ],
   "source": [
    "import paddle\n",
    "from paddle.vision.transforms import ToTensor\n",
    "\n",
    "# 加载数据集\n",
    "train_dataset = paddle.vision.datasets.MNIST(mode='train', transform=ToTensor())\n",
    "test_dataset = paddle.vision.datasets.MNIST(mode='test', transform=ToTensor())\n",
    "\n",
    "# 定义网络结构(采用 Sequential组网方式 )\n",
    "mnist = paddle.nn.Sequential(\n",
    "    paddle.nn.Flatten(1, -1),\n",
    "    paddle.nn.Linear(784, 512),\n",
    "    paddle.nn.ReLU(),\n",
    "    paddle.nn.Dropout(0.2),\n",
    "    paddle.nn.Linear(512, 10)\n",
    ")\n",
    "model = paddle.Model(mnist)\n",
    "\n",
    "# 用Model.prepare()配置模型\n",
    "# 用paddle.Model完成模型的封装后，在训练前，需要对模型进行配置。\n",
    "# 通过Model.prepare接口来对训练进行提前的配置准备工作，包括设置模型优化器，Loss计算方法，精度计算方法等。\n",
    "model.prepare(optimizer=paddle.optimizer.Adam(parameters=model.parameters()),\n",
    "              loss=paddle.nn.CrossEntropyLoss(),\n",
    "              metrics=paddle.metric.Accuracy())\n",
    "\n",
    "# 用Model.fit()训练模型\n",
    "model.fit(train_dataset, epochs=5, batch_size=64, verbose=1)\n",
    "\n",
    "# 用Model.evaluate()评估模型\n",
    "eval_result = model.evaluate(test_dataset, verbose=1)\n",
    "\n",
    "# 用Model.predict()预测模型\n",
    "test_result = model.predict(test_dataset)"
   ]
  },
  {
   "cell_type": "markdown",
   "id": "7ee05bb4",
   "metadata": {},
   "source": [
    "**通过基础API实现模型的训练与预测**"
   ]
  },
  {
   "cell_type": "code",
   "execution_count": 4,
   "id": "50268d52",
   "metadata": {},
   "outputs": [],
   "source": [
    "# 定义网络结构( 采用SubClass组网 )\n",
    "class Mnist(paddle.nn.Layer):\n",
    "    def __init__(self):\n",
    "        super(Mnist, self).__init__()\n",
    "        self.flatten = paddle.nn.Flatten()\n",
    "        self.linear_1 = paddle.nn.Linear(784, 512)\n",
    "        self.linear_2 = paddle.nn.Linear(512, 10)\n",
    "        self.relu = paddle.nn.ReLU()\n",
    "        self.dropout = paddle.nn.Dropout(0.2)\n",
    "\n",
    "    def forward(self, inputs):\n",
    "        y = self.flatten(inputs)\n",
    "        y = self.linear_1(y)\n",
    "        y = self.relu(y)\n",
    "        y = self.dropout(y)\n",
    "        y = self.linear_2(y)\n",
    "        return y    "
   ]
  },
  {
   "cell_type": "code",
   "execution_count": 9,
   "id": "ed328915",
   "metadata": {},
   "outputs": [
    {
     "name": "stdout",
     "output_type": "stream",
     "text": [
      "epoch: 0, batch_id: 900, loss is: [0.09009621], acc is: [0.984375]\n",
      "epoch: 1, batch_id: 900, loss is: [0.10677832], acc is: [0.96875]\n",
      "epoch: 2, batch_id: 900, loss is: [0.07075432], acc is: [0.96875]\n",
      "epoch: 3, batch_id: 900, loss is: [0.08160634], acc is: [0.953125]\n",
      "epoch: 4, batch_id: 900, loss is: [0.03897126], acc is: [0.984375]\n"
     ]
    }
   ],
   "source": [
    "# 拆解Model.prepare()、Model.fit()-- 用基础API训练模型\n",
    "train_loader = paddle.io.DataLoader(train_dataset, batch_size=64, shuffle=True)\n",
    "mnist = Mnist()\n",
    "mnist.train()\n",
    "epochs = 5 # 设置迭代次数\n",
    "optim = paddle.optimizer.Adam(parameters=mnist.parameters()) # 设置优化器\n",
    "loss_fn = paddle.nn.CrossEntropyLoss() # 设置损失函数\n",
    "for epoch in range(epochs):\n",
    "    for batch_id, data in enumerate(train_loader()):\n",
    "        x_data = data[0]\n",
    "        y_data = data[1]\n",
    "        predicts = mnist(x_data)\n",
    "        \n",
    "        # Model.prepare()中封装了以下两不少\n",
    "        loss = loss_fn(predicts, y_data) # 损失计算\n",
    "        acc = paddle.metric.accuracy(predicts, y_data) # 准确率计算\n",
    "        \n",
    "        # Model,fit() 中封装了以下三步\n",
    "        loss.backward() # 反向传播\n",
    "        if (batch_id+1) % 900 == 0:\n",
    "            print(\"epoch: {}, batch_id: {}, loss is: {}, acc is: {}\".format(epoch, batch_id+1, loss.numpy(), acc.numpy()))\n",
    "        optim.step() # 更新参数\n",
    "        optim.clear_grad() # 梯度清零"
   ]
  },
  {
   "cell_type": "code",
   "execution_count": 10,
   "id": "8743eaf8",
   "metadata": {},
   "outputs": [
    {
     "name": "stdout",
     "output_type": "stream",
     "text": [
      "batch_id: 30, loss is: [0.10470463], acc is: [0.984375]\n",
      "batch_id: 60, loss is: [0.22882724], acc is: [0.9375]\n",
      "batch_id: 90, loss is: [0.12311672], acc is: [0.96875]\n",
      "batch_id: 120, loss is: [0.00529607], acc is: [1.]\n",
      "batch_id: 150, loss is: [0.08709183], acc is: [0.984375]\n"
     ]
    }
   ],
   "source": [
    "# 拆解Model.evaluate()\n",
    "# 加载测试数据集\n",
    "test_loader = paddle.io.DataLoader(test_dataset, batch_size=64, drop_last=True)\n",
    "loss_fn = paddle.nn.CrossEntropyLoss()\n",
    "\n",
    "mnist.eval()\n",
    "\n",
    "for batch_id, data in enumerate(test_loader()):\n",
    "\n",
    "    x_data = data[0]            # 测试数据\n",
    "    y_data = data[1]            # 测试数据标签\n",
    "    predicts = mnist(x_data)    # 预测结果\n",
    "\n",
    "    # 计算损失与精度\n",
    "    loss = loss_fn(predicts, y_data)\n",
    "    acc = paddle.metric.accuracy(predicts, y_data)\n",
    "\n",
    "    # 打印信息\n",
    "    if (batch_id+1) % 30 == 0:\n",
    "        print(\"batch_id: {}, loss is: {}, acc is: {}\".format(batch_id+1, loss.numpy(), acc.numpy()))"
   ]
  },
  {
   "cell_type": "code",
   "execution_count": 12,
   "id": "76b6defe",
   "metadata": {},
   "outputs": [
    {
     "name": "stdout",
     "output_type": "stream",
     "text": [
      "predict finished\n"
     ]
    }
   ],
   "source": [
    "#  拆解Model.predict()\n",
    "# 加载测试数据集\n",
    "test_loader = paddle.io.DataLoader(test_dataset, batch_size=64, drop_last=True)\n",
    "mnist.eval()\n",
    "for batch_id, data in enumerate(test_loader()):\n",
    "    x_data = data[0]\n",
    "    predicts = mnist(x_data)\n",
    "print(\"predict finished\")"
   ]
  },
  {
   "cell_type": "code",
   "execution_count": null,
   "id": "889620a9",
   "metadata": {},
   "outputs": [],
   "source": []
  }
 ],
 "metadata": {
  "kernelspec": {
   "display_name": "Python 3 (ipykernel)",
   "language": "python",
   "name": "python3"
  },
  "language_info": {
   "codemirror_mode": {
    "name": "ipython",
    "version": 3
   },
   "file_extension": ".py",
   "mimetype": "text/x-python",
   "name": "python",
   "nbconvert_exporter": "python",
   "pygments_lexer": "ipython3",
   "version": "3.9.7"
  }
 },
 "nbformat": 4,
 "nbformat_minor": 5
}
