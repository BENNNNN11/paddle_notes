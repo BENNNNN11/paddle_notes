{
 "cells": [
  {
   "cell_type": "markdown",
   "id": "a60bdfb4",
   "metadata": {},
   "source": [
    "# 数据预处理"
   ]
  },
  {
   "cell_type": "markdown",
   "id": "866b4b30",
   "metadata": {},
   "source": [
    "## 内置数据集"
   ]
  },
  {
   "cell_type": "code",
   "execution_count": 1,
   "id": "90fce185",
   "metadata": {
    "pycharm": {
     "name": "#%%\n"
    }
   },
   "outputs": [
    {
     "name": "stdout",
     "output_type": "stream",
     "text": [
      "数据处理方法： ['BaseTransform', 'Compose', 'Resize', 'RandomResizedCrop', 'CenterCrop', 'RandomHorizontalFlip', 'RandomVerticalFlip', 'Transpose', 'Normalize', 'BrightnessTransform', 'SaturationTransform', 'ContrastTransform', 'HueTransform', 'ColorJitter', 'RandomCrop', 'Pad', 'RandomRotation', 'Grayscale', 'ToTensor', 'to_tensor', 'hflip', 'vflip', 'resize', 'pad', 'rotate', 'to_grayscale', 'crop', 'center_crop', 'adjust_brightness', 'adjust_contrast', 'adjust_hue', 'normalize']\n"
     ]
    }
   ],
   "source": [
    "import paddle\n",
    "\n",
    "print('数据处理方法：', paddle.vision.transforms.__all__)"
   ]
  },
  {
   "cell_type": "code",
   "execution_count": 2,
   "id": "4d97140d",
   "metadata": {
    "pycharm": {
     "name": "#%%\n"
    }
   },
   "outputs": [],
   "source": [
    "from paddle.vision.transforms import Compose, Resize, ColorJitter\n",
    "\n",
    "# 定义想要使用的数据增强方式，这里包括随机调整亮度、对比度和饱和度，改变图片大小\n",
    "transform = Compose([ColorJitter(), Resize(size=32)])\n",
    "\n",
    "# 通过transform参数传递定义好的数据增强方法即可完成对自带数据集的增强\n",
    "train_dataset = paddle.vision.datasets.MNIST(mode='train', transform=transform)"
   ]
  },
  {
   "cell_type": "markdown",
   "id": "004d3e0a",
   "metadata": {},
   "source": [
    "## 自定义数据集\n",
    "- 对于自定义数据集，可以在数据集的构造函数中进行数据增强方法的定义，之后对`__getitem__`中返回的数据进行应用，就可以完成数据增强"
   ]
  },
  {
   "cell_type": "code",
   "execution_count": 3,
   "id": "0e9c590f",
   "metadata": {},
   "outputs": [],
   "source": [
    "import paddle\n",
    "from paddle.io import Dataset\n",
    "from paddle.vision.transforms import Compose, Resize\n",
    "\n",
    "BATCH_SIZE = 64\n",
    "BATCH_NUM = 20\n",
    "\n",
    "IMAGE_SIZE = (28, 28)\n",
    "CLASS_NUM = 10\n",
    "\n",
    "class MyDataset(Dataset):\n",
    "    def __init__(self, num_samples):\n",
    "        super(MyDataset, self).__init__()\n",
    "        self.num_samples = num_samples\n",
    "        # 在 `__init__` 中定义数据增强方法，此处为调整图像大小\n",
    "        self.transform = Compose([Resize(size=32)])\n",
    "\n",
    "    def __getitem__(self, index):\n",
    "        data = paddle.uniform(IMAGE_SIZE, dtype='float32')\n",
    "        # 在 `__getitem__` 中对数据集使用数据增强方法\n",
    "        data = self.transform(data.numpy())\n",
    "\n",
    "        label = paddle.randint(0, CLASS_NUM-1, dtype='int64')\n",
    "\n",
    "        return data, label\n",
    "\n",
    "    def __len__(self):\n",
    "        return self.num_samples"
   ]
  },
  {
   "cell_type": "code",
   "execution_count": 4,
   "id": "208f431b",
   "metadata": {},
   "outputs": [
    {
     "name": "stdout",
     "output_type": "stream",
     "text": [
      "=============custom dataset=============\n",
      "(32, 32) [1]\n"
     ]
    }
   ],
   "source": [
    "# 测试定义的数据集\n",
    "custom_dataset = MyDataset(BATCH_SIZE * BATCH_NUM)\n",
    "\n",
    "print('=============custom dataset=============')\n",
    "for data, label in custom_dataset:\n",
    "    print(data.shape, label.shape)\n",
    "    break"
   ]
  },
  {
   "cell_type": "markdown",
   "id": "2a43c764",
   "metadata": {},
   "source": [
    "输出的形状从 [28, 28, 1] 变为了 [32, 32, 1]，证明完成了图像的大小调整。"
   ]
  },
  {
   "cell_type": "code",
   "execution_count": null,
   "id": "b80801fc",
   "metadata": {},
   "outputs": [],
   "source": []
  }
 ],
 "metadata": {
  "kernelspec": {
   "display_name": "Python 3 (ipykernel)",
   "language": "python",
   "name": "python3"
  },
  "language_info": {
   "codemirror_mode": {
    "name": "ipython",
    "version": 3
   },
   "file_extension": ".py",
   "mimetype": "text/x-python",
   "name": "python",
   "nbconvert_exporter": "python",
   "pygments_lexer": "ipython3",
   "version": "3.9.7"
  }
 },
 "nbformat": 4,
 "nbformat_minor": 5
}
