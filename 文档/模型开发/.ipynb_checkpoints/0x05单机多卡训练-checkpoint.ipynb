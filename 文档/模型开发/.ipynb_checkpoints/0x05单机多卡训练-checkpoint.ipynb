{
 "cells": [
  {
   "cell_type": "markdown",
   "id": "a984b2b0",
   "metadata": {},
   "source": [
    "## 单机多卡训练\n",
    "- 采用`paddle.distributed.spawn`函数来启动单机多卡训练\n",
    "- 同时原有的`paddle.distributed.launch`依然保存"
   ]
  },
  {
   "cell_type": "markdown",
   "id": "7d7a9b7f",
   "metadata": {},
   "source": [
    "**launch启动**"
   ]
  },
  {
   "cell_type": "code",
   "execution_count": null,
   "id": "2b1f0c2a",
   "metadata": {},
   "outputs": [],
   "source": [
    "# 高层API场景\n",
    "\n",
    "# 单机单卡启动，默认使用第0号卡\n",
    "$ python train.py\n",
    "\n",
    "# 单机多卡启动，默认使用当前可见的所有卡\n",
    "$ python -m paddle.distributed.launch train.py\n",
    "\n",
    "# 单机多卡启动，设置当前使用的第0号和第1号卡\n",
    "$ python -m paddle.distributed.launch --gpus='0,1' train.py\n",
    "\n",
    "# 单机多卡启动，设置当前使用第0号和第1号卡\n",
    "$ export CUDA_VISIBLE_DEVICES=0,1\n",
    "$ python -m paddle.distributed.launch train.py"
   ]
  },
  {
   "cell_type": "code",
   "execution_count": null,
   "id": "b5928531",
   "metadata": {},
   "outputs": [
    {
     "name": "stderr",
     "output_type": "stream",
     "text": [
      "D:\\anaconda\\envs\\lc-or\\lib\\site-packages\\paddle\\distributed\\parallel.py:135: UserWarning: Currently not a parallel execution environment, `paddle.distributed.init_parallel_env` will not do anything.\n",
      "  warnings.warn(\n",
      "D:\\anaconda\\envs\\lc-or\\lib\\site-packages\\paddle\\fluid\\dygraph\\parallel.py:593: UserWarning: The program will return to single-card operation. Please check 1, whether you use spawn or fleetrun to start the program. 2, Whether it is a multi-card program. 3, Is the current environment multi-card.\n",
      "  warnings.warn(\"The program will return to single-card operation. \"\n",
      "Exception in thread Thread-10:\n",
      "Traceback (most recent call last):\n",
      "  File \"D:\\anaconda\\envs\\lc-or\\lib\\threading.py\", line 973, in _bootstrap_inner\n",
      "    self.run()\n",
      "  File \"D:\\anaconda\\envs\\lc-or\\lib\\threading.py\", line 910, in run\n",
      "    self._target(*self._args, **self._kwargs)\n",
      "  File \"D:\\anaconda\\envs\\lc-or\\lib\\site-packages\\paddle\\fluid\\dataloader\\dataloader_iter.py\", line 212, in _thread_loop\n",
      "    batch = self._dataset_fetcher.fetch(indices,\n",
      "  File \"D:\\anaconda\\envs\\lc-or\\lib\\site-packages\\paddle\\fluid\\dataloader\\fetcher.py\", line 134, in fetch\n",
      "    data = self.collate_fn(data)\n",
      "  File \"D:\\anaconda\\envs\\lc-or\\lib\\site-packages\\paddle\\fluid\\dataloader\\collate.py\", line 77, in default_collate_fn\n",
      "    return [default_collate_fn(fields) for fields in zip(*batch)]\n",
      "  File \"D:\\anaconda\\envs\\lc-or\\lib\\site-packages\\paddle\\fluid\\dataloader\\collate.py\", line 77, in <listcomp>\n",
      "    return [default_collate_fn(fields) for fields in zip(*batch)]\n",
      "  File \"D:\\anaconda\\envs\\lc-or\\lib\\site-packages\\paddle\\fluid\\dataloader\\collate.py\", line 79, in default_collate_fn\n",
      "    raise TypeError(\"batch data con only contains: tensor, numpy.ndarray, \"\n",
      "TypeError: batch data con only contains: tensor, numpy.ndarray, dict, list, number, but got <class 'PIL.Image.Image'>\n"
     ]
    }
   ],
   "source": [
    "# 基础API场景：需要修改单机单卡的代码3处\n",
    "import paddle\n",
    "import paddle.distributed as dist # 1. 导入相关包\n",
    "\n",
    "# 加载数据集\n",
    "train_dataset = paddle.vision.datasets.MNIST(mode='train')\n",
    "test_dataset = paddle.vision.datasets.MNIST(mode='test')\n",
    "\n",
    "# 2. 初始化并行环境\n",
    "dist.init_parallel_env()\n",
    "\n",
    "# 定义网络结构\n",
    "mnist = paddle.nn.Sequential(\n",
    "    paddle.nn.Flatten(1, -1),\n",
    "    paddle.nn.Linear(784, 512),\n",
    "    paddle.nn.ReLU(),\n",
    "    paddle.nn.Dropout(0.2),\n",
    "    paddle.nn.Linear(512, 10)\n",
    ")\n",
    "\n",
    "# 用 DataLoader 实现数据加载\n",
    "train_loader = paddle.io.DataLoader(train_dataset, batch_size=32, shuffle=True)\n",
    "\n",
    "# 3. 增加paddle.DataParallel封装\n",
    "mnist = paddle.DataParallel(mnist)\n",
    "mnist.train()\n",
    "\n",
    "# 设置迭代次数\n",
    "epochs = 5\n",
    "\n",
    "# 设置优化器\n",
    "optim = paddle.optimizer.Adam(parameters=mnist.parameters())\n",
    "for epoch in range(epochs):\n",
    "    for batch_id, data in enumerate(train_loader()):\n",
    "        x_data = data[0]            # 训练数据\n",
    "        y_data = data[1]            # 训练数据标签\n",
    "        predicts = mnist(x_data)    # 预测结果\n",
    "        # 计算损失 等价于 prepare 中loss的设置\n",
    "        loss = paddle.nn.functional.cross_entropy(predicts, y_data)\n",
    "        # 计算准确率 等价于 prepare 中metrics的设置\n",
    "        acc = paddle.metric.accuracy(predicts, y_data)\n",
    "        # 下面的反向传播、打印训练信息、更新参数、梯度清零都被封装到 Model.fit() 中\n",
    "        # 反向传播\n",
    "        loss.backward()\n",
    "        if (batch_id+1) % 1800 == 0:\n",
    "            print(\"epoch: {}, batch_id: {}, loss is: {}, acc is: {}\".format(epoch, batch_id, loss.numpy(), acc.numpy()))\n",
    "        # 更新参数\n",
    "        optim.step()\n",
    "        # 梯度清零\n",
    "        optim.clear_grad() "
   ]
  },
  {
   "cell_type": "code",
   "execution_count": null,
   "id": "91fc121f",
   "metadata": {},
   "outputs": [],
   "source": [
    "# 修改完后保存文件，然后使用跟高层API相同的启动方式即可。\n",
    "# 单机多卡启动，默认使用当前可见的所有卡\n",
    "$ python -m paddle.distributed.launch train.py\n",
    "\n",
    "# 单机多卡启动，设置当前使用的第0号和第1号卡\n",
    "$ python -m paddle.distributed.launch --gpus '0,1' train.py\n",
    "\n",
    "# 单机多卡启动，设置当前使用第0号和第1号卡\n",
    "$ export CUDA_VISIBLE_DEVICES=0,1\n",
    "$ python -m paddle.distributed.launch train.py  "
   ]
  },
  {
   "cell_type": "markdown",
   "id": "f3171012",
   "metadata": {},
   "source": [
    "**spawn**方式启动\n",
    "- launch方式启动，以文件为单位启动多进程，需要用户在启动时调用paddle.distributed.launch，对进程管理较高\n",
    "- spawn可以更好的控制进程，在打印日志，退出进程时更友好"
   ]
  },
  {
   "cell_type": "code",
   "execution_count": null,
   "id": "a037f8ef",
   "metadata": {},
   "outputs": [],
   "source": [
    "from __future__ import print_function\n",
    "\n",
    "import paddle\n",
    "import paddle.nn as nn\n",
    "import paddle.optimizer as opt\n",
    "import paddle.distributed as dist\n",
    "\n"
   ]
  }
 ],
 "metadata": {
  "kernelspec": {
   "display_name": "Python 3 (ipykernel)",
   "language": "python",
   "name": "python3"
  },
  "language_info": {
   "codemirror_mode": {
    "name": "ipython",
    "version": 3
   },
   "file_extension": ".py",
   "mimetype": "text/x-python",
   "name": "python",
   "nbconvert_exporter": "python",
   "pygments_lexer": "ipython3",
   "version": "3.9.7"
  }
 },
 "nbformat": 4,
 "nbformat_minor": 5
}
