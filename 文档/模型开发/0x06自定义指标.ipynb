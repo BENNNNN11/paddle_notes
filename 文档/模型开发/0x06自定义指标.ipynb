{
 "cells": [
  {
   "cell_type": "markdown",
   "id": "be65452a",
   "metadata": {},
   "source": [
    "## 自定义指标\n",
    "- 除了飞桨框架内置的指标外，还可以根据自己的实际场景自定义指标"
   ]
  },
  {
   "cell_type": "markdown",
   "id": "ac9a1dd7",
   "metadata": {},
   "source": [
    "**自定义loss**"
   ]
  },
  {
   "cell_type": "code",
   "execution_count": 2,
   "id": "d6bad2ca",
   "metadata": {},
   "outputs": [],
   "source": [
    "import paddle\n",
    "class SelfDefinedLoss(paddle.nn.Layer):\n",
    "    # 继承自paddle.nn.Layer, 构造函数根据自己的实际算法需求和使用需求进行参数定义即可\n",
    "    def __init__(self):\n",
    "        super(SelfDefinedLoss, self).__init__()\n",
    "\n",
    "    def forward(self, inputs, labels):\n",
    "        \"\"\"\n",
    "        :param inputs: 单个或批次训练数据经过模型前向计算输出结果\n",
    "        :param labels: 单个或批次训练数据对应的标签数据\n",
    "        :return: Tensor，根据自定义的逻辑加和或计算均值后的损失\n",
    "        \"\"\"\n",
    "        pass\n",
    "\n",
    "# e.g. 自定义的softmax\n",
    "class SoftmaxWithCrossEntropy(paddle.nn.Layer):\n",
    "    def __init__(self):\n",
    "       super(SoftmaxWithCrossEntropy, self).__init__()\n",
    "\n",
    "    def forward(self, input, label):\n",
    "       loss = F.softmax_with_cross_entropy(input,\n",
    "                                           label,\n",
    "                                           return_softmax=False,\n",
    "                                           axis=1)\n",
    "       return paddle.mean(loss)"
   ]
  },
  {
   "cell_type": "markdown",
   "id": "e53bb5c6",
   "metadata": {},
   "source": [
    "**自定义Metric**"
   ]
  },
  {
   "cell_type": "code",
   "execution_count": null,
   "id": "38d9874a",
   "metadata": {},
   "outputs": [],
   "source": [
    "class Precision(paddle.metric.Metric):\n",
    "    def __init__(self, name='precision', *args, **kwargs):\n",
    "        super(Precision, self).__init__(*args, **kwargs)\n",
    "        self.tp = 0  # true positive\n",
    "        self.fp = 0  # false positive\n",
    "        self.name = name\n",
    "\n",
    "    def update(self, preds, labels):\n",
    "        \"\"\"\n",
    "        根据当前mini-batch的结果更新参数\n",
    "        :param preds: 预测的结果\n",
    "        :param labels: ground truth标签\n",
    "        \"\"\"\n",
    "        if isinstance(preds, paddle.Tensor):\n",
    "            preds = preds.numpy()\n",
    "        elif not _is_numpy_(preds):\n",
    "            raise ValueError(\"The 'preds' must be a numpy ndarray or Tensor.\")\n",
    "        if isinstance(labels, paddle.Tensor):\n",
    "            labels = labels.numpy()\n",
    "        elif not _is_numpy_(labels):\n",
    "            raise ValueError(\"The 'labels' must be a numpy ndarray or Tensor.\")\n",
    "\n",
    "        sample_num = labels.shape[0]\n",
    "        preds = np.floor(preds + 0.5).astype(\"int32\")\n",
    "\n",
    "        for i in range(sample_num):\n",
    "            pred = preds[i]\n",
    "            label = labels[i]\n",
    "            if pred == 1:\n",
    "                if pred == label:\n",
    "                    self.tp += 1\n",
    "                else:\n",
    "                    self.fp += 1\n",
    "\n",
    "    def reset(self):\n",
    "        self.tp = 0\n",
    "        self.fp = 0\n",
    "\n",
    "    def accumulate(self):\n",
    "        \"\"\"\n",
    "        计算最终的精度\n",
    "        Returns:\n",
    "           A scaler float: results of the calculated precision.\n",
    "        \"\"\"\n",
    "        ap = self.tp + self.fp\n",
    "        return float(self.tp) / ap if ap != 0 else .0\n",
    "\n",
    "    def name(self):\n",
    "        return self._name"
   ]
  },
  {
   "cell_type": "markdown",
   "id": "f2aae09d",
   "metadata": {},
   "source": [
    "**自定义Callback**"
   ]
  },
  {
   "cell_type": "code",
   "execution_count": null,
   "id": "498932ad",
   "metadata": {},
   "outputs": [],
   "source": []
  }
 ],
 "metadata": {
  "kernelspec": {
   "display_name": "Python 3 (ipykernel)",
   "language": "python",
   "name": "python3"
  },
  "language_info": {
   "codemirror_mode": {
    "name": "ipython",
    "version": 3
   },
   "file_extension": ".py",
   "mimetype": "text/x-python",
   "name": "python",
   "nbconvert_exporter": "python",
   "pygments_lexer": "ipython3",
   "version": "3.9.7"
  }
 },
 "nbformat": 4,
 "nbformat_minor": 5
}
