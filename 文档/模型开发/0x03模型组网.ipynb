{
 "cells": [
  {
   "cell_type": "markdown",
   "id": "e76a0dde",
   "metadata": {},
   "source": [
    "# 模型组网\n",
    "- 完成数据集构建之后，需要构建网络模型\n",
    "- 飞桨组网相关API，主要是[paddle.nn](https://www.paddlepaddle.org.cn/documentation/docs/zh/api/paddle/nn/Overview_cn.html)\n",
    "- 动态图模式下支持的两种组网方式;\n",
    "    - **Sequential组网**\n",
    "    - **SubClass组网**"
   ]
  },
  {
   "cell_type": "markdown",
   "id": "6a497669",
   "metadata": {},
   "source": [
    "**Sequential组网**"
   ]
  },
  {
   "cell_type": "code",
   "execution_count": 8,
   "id": "55d3ad2d",
   "metadata": {},
   "outputs": [],
   "source": [
    "import paddle\n",
    "mnist = paddle.nn.Sequential(\n",
    "    paddle.nn.Flatten(),\n",
    "    paddle.nn.Linear(784, 512),\n",
    "    paddle.nn.ReLU(),\n",
    "    paddle.nn.Dropout(0.2),\n",
    "    paddle.nn.Linear(512, 10)\n",
    ")"
   ]
  },
  {
   "cell_type": "markdown",
   "id": "98507cf4",
   "metadata": {},
   "source": [
    "**SubClass组网**\n",
    "- 在针对比较复杂的网络结构，可以使用[Layer子类](https://www.paddlepaddle.org.cn/documentation/docs/zh/api/paddle/nn/Layer_cn.html)定义的方式进行模型代码的编写\n",
    "    - 在`__init__`构造函数中进行组网Layer的声明\n",
    "    - 在`forward`中使用声明的Layer变量进行前向计算\n",
    "    "
   ]
  },
  {
   "cell_type": "code",
   "execution_count": 9,
   "id": "121c18fa",
   "metadata": {},
   "outputs": [],
   "source": [
    "# Layer类继承方式组网\n",
    "class Mnist(paddle.nn.Layer):\n",
    "    def __init__(self):\n",
    "        super(Mnist, self).__init__()\n",
    "\n",
    "        self.flatten = paddle.nn.Flatten()\n",
    "        self.linear_1 = paddle.nn.Linear(784, 512)\n",
    "        self.linear_2 = paddle.nn.Linear(512, 10)\n",
    "        self.relu = paddle.nn.ReLU()\n",
    "        self.dropout = paddle.nn.Dropout(0.2)\n",
    "\n",
    "    def forward(self, inputs):\n",
    "        y = self.flatten(inputs)\n",
    "        y = self.linear_1(y)\n",
    "        y = self.relu(y)\n",
    "        y = self.dropout(y)\n",
    "        y = self.linear_2(y)\n",
    "\n",
    "        return y\n",
    "\n",
    "mnist_2 = Mnist()"
   ]
  },
  {
   "cell_type": "markdown",
   "id": "464b14a9",
   "metadata": {},
   "source": [
    "**飞桨框架内置模型**"
   ]
  },
  {
   "cell_type": "code",
   "execution_count": 10,
   "id": "83533b8b",
   "metadata": {},
   "outputs": [
    {
     "name": "stdout",
     "output_type": "stream",
     "text": [
      "飞桨框架内置模型： ['ResNet', 'resnet18', 'resnet34', 'resnet50', 'resnet101', 'resnet152', 'VGG', 'vgg11', 'vgg13', 'vgg16', 'vgg19', 'MobileNetV1', 'mobilenet_v1', 'MobileNetV2', 'mobilenet_v2', 'LeNet']\n"
     ]
    }
   ],
   "source": [
    "print('飞桨框架内置模型：', paddle.vision.models.__all__)"
   ]
  },
  {
   "cell_type": "markdown",
   "id": "497dfac7",
   "metadata": {},
   "source": [
    "**查看模型的结构与每一层输入输出形状**"
   ]
  },
  {
   "cell_type": "code",
   "execution_count": 11,
   "id": "7d5b1b92",
   "metadata": {},
   "outputs": [
    {
     "name": "stdout",
     "output_type": "stream",
     "text": [
      "---------------------------------------------------------------------------\n",
      " Layer (type)       Input Shape          Output Shape         Param #    \n",
      "===========================================================================\n",
      "   Conv2D-3      [[64, 1, 28, 28]]     [64, 6, 28, 28]          60       \n",
      "    ReLU-8       [[64, 6, 28, 28]]     [64, 6, 28, 28]           0       \n",
      "  MaxPool2D-3    [[64, 6, 28, 28]]     [64, 6, 14, 14]           0       \n",
      "   Conv2D-4      [[64, 6, 14, 14]]     [64, 16, 10, 10]        2,416     \n",
      "    ReLU-9       [[64, 16, 10, 10]]    [64, 16, 10, 10]          0       \n",
      "  MaxPool2D-4    [[64, 16, 10, 10]]     [64, 16, 5, 5]           0       \n",
      "   Linear-14        [[64, 400]]           [64, 120]           48,120     \n",
      "   Linear-15        [[64, 120]]            [64, 84]           10,164     \n",
      "   Linear-16         [[64, 84]]            [64, 10]             850      \n",
      "===========================================================================\n",
      "Total params: 61,610\n",
      "Trainable params: 61,610\n",
      "Non-trainable params: 0\n",
      "---------------------------------------------------------------------------\n",
      "Input size (MB): 0.19\n",
      "Forward/backward pass size (MB): 7.03\n",
      "Params size (MB): 0.24\n",
      "Estimated Total Size (MB): 7.46\n",
      "---------------------------------------------------------------------------\n",
      "\n"
     ]
    },
    {
     "data": {
      "text/plain": [
       "{'total_params': 61610, 'trainable_params': 61610}"
      ]
     },
     "execution_count": 11,
     "metadata": {},
     "output_type": "execute_result"
    }
   ],
   "source": [
    "# 通过paddle.summary()方法\n",
    "lenet = paddle.vision.models.LeNet()\n",
    "paddle.summary(lenet, ((64, 1, 28, 28)))"
   ]
  },
  {
   "cell_type": "code",
   "execution_count": null,
   "id": "39f83fd6",
   "metadata": {},
   "outputs": [],
   "source": []
  }
 ],
 "metadata": {
  "kernelspec": {
   "display_name": "Python 3 (ipykernel)",
   "language": "python",
   "name": "python3"
  },
  "language_info": {
   "codemirror_mode": {
    "name": "ipython",
    "version": 3
   },
   "file_extension": ".py",
   "mimetype": "text/x-python",
   "name": "python",
   "nbconvert_exporter": "python",
   "pygments_lexer": "ipython3",
   "version": "3.9.7"
  }
 },
 "nbformat": 4,
 "nbformat_minor": 5
}
